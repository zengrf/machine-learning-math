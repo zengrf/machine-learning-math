{
 "cells": [
  {
   "cell_type": "code",
   "execution_count": 18,
   "metadata": {},
   "outputs": [],
   "source": [
    "import pandas as pd\n",
    "import numpy as np\n",
    "import matplotlib.pyplot as plt\n",
    "\n",
    "import tensorflow as tf\n",
    "from tensorflow.keras import layers, models\n",
    "from sklearn.model_selection import train_test_split\n",
    "from sklearn.metrics import accuracy_score\n",
    "from sklearn.preprocessing import StandardScaler\n",
    "\n",
    "# For integrated gradients\n",
    "from tf_explain.core import IntegratedGradients"
   ]
  },
  {
   "cell_type": "code",
   "execution_count": 19,
   "metadata": {},
   "outputs": [],
   "source": [
    "###############################################################################\n",
    "# 1. Load and prepare the dataset\n",
    "###############################################################################\n",
    "df = pd.read_csv(\"lr_dataset6.csv\")\n",
    "\n",
    "# Example numeric features. Adjust as needed.\n",
    "numeric_features = [\n",
    "    \"lambda_list\", \"lambda_length\",\"lambda_conjugate\", \"lambda_durfee\", \"lambda_area\", \"lambda_lattice\",\n",
    "    \"mu_list\", \"mu_length\", \"mu_conjugate\", \"mu_durfee\", \"mu_area\", \"mu_lattice\",\n",
    "    \"nu_list\", \"nu_length\", \"nu_conjugate\", \"nu_durfee\", \"nu_area\", \"nu_lattice\"\n",
    "]\n",
    "\n",
    "# Convert to numeric and fill NaNs\n",
    "for col in numeric_features:\n",
    "    df[col] = pd.to_numeric(df[col], errors=\"coerce\").fillna(0)\n",
    "\n",
    "# Binary target: 1 if LR coefficient is nonzero, else 0\n",
    "df[\"target\"] = (df[\"lr_coefficient\"] > 0).astype(int)\n",
    "\n",
    "# 3. Split the DataFrame itself into train_data and test_data\n",
    "train_data, test_data = train_test_split(df, test_size=0.2, random_state=42)\n",
    "\n",
    "# Optional: reset the indices so that sample_idx=0 corresponds to the first row in test_data\n",
    "test_data = test_data.reset_index(drop=True)\n",
    "\n",
    "# 4. Now you can build X_train, y_train, etc. from train_data, and X_test, y_test from test_data\n",
    "X_train = train_data[numeric_features]\n",
    "y_train = train_data[\"target\"]\n",
    "X_test = test_data[numeric_features]\n",
    "y_test = test_data[\"target\"]\n",
    "\n",
    "# Optionally scale features\n",
    "scaler = StandardScaler()\n",
    "X_train_scaled = scaler.fit_transform(X_train)\n",
    "X_test_scaled = scaler.transform(X_test)\n"
   ]
  },
  {
   "cell_type": "code",
   "execution_count": 20,
   "metadata": {},
   "outputs": [],
   "source": [
    "\n",
    "###############################################################################\n",
    "# 2. Define a simple feature-wise attention layer\n",
    "###############################################################################\n",
    "class FeatureWiseAttention(layers.Layer):\n",
    "    \"\"\"\n",
    "    A simple attention mechanism that learns a scalar weight for each feature.\n",
    "    We apply a softmax to these weights and then compute a weighted sum\n",
    "    across the feature dimension.\n",
    "    \"\"\"\n",
    "    def __init__(self, **kwargs):\n",
    "        super().__init__(**kwargs)\n",
    "\n",
    "    def build(self, input_shape):\n",
    "        # We'll learn one weight per input feature\n",
    "        self.attention_logits = self.add_weight(\n",
    "            shape=(input_shape[-1],),\n",
    "            initializer='glorot_uniform',\n",
    "            trainable=True,\n",
    "            name='attention_logits'\n",
    "        )\n",
    "        super().build(input_shape)\n",
    "\n",
    "    def call(self, inputs):\n",
    "        # inputs shape: (batch_size, num_features)\n",
    "        # self.attention_logits shape: (num_features,)\n",
    "        # Convert logits -> normalized attention weights\n",
    "        alpha = tf.nn.softmax(self.attention_logits)  # shape (num_features,)\n",
    "        # Weighted sum over the features\n",
    "        # Expand alpha to match (batch_size, num_features)\n",
    "        alpha_broadcast = tf.reshape(alpha, (1, -1))\n",
    "        weighted_sum = tf.reduce_sum(inputs * alpha_broadcast, axis=-1, keepdims=True)\n",
    "        return weighted_sum  # shape: (batch_size, 1)\n"
   ]
  },
  {
   "cell_type": "code",
   "execution_count": 21,
   "metadata": {},
   "outputs": [
    {
     "data": {
      "text/html": [
       "<pre style=\"white-space:pre;overflow-x:auto;line-height:normal;font-family:Menlo,'DejaVu Sans Mono',consolas,'Courier New',monospace\"><span style=\"font-weight: bold\">Model: \"functional_2\"</span>\n",
       "</pre>\n"
      ],
      "text/plain": [
       "\u001b[1mModel: \"functional_2\"\u001b[0m\n"
      ]
     },
     "metadata": {},
     "output_type": "display_data"
    },
    {
     "data": {
      "text/html": [
       "<pre style=\"white-space:pre;overflow-x:auto;line-height:normal;font-family:Menlo,'DejaVu Sans Mono',consolas,'Courier New',monospace\">┏━━━━━━━━━━━━━━━━━━━━━┳━━━━━━━━━━━━━━━━━━━┳━━━━━━━━━━━━┳━━━━━━━━━━━━━━━━━━━┓\n",
       "┃<span style=\"font-weight: bold\"> Layer (type)        </span>┃<span style=\"font-weight: bold\"> Output Shape      </span>┃<span style=\"font-weight: bold\">    Param # </span>┃<span style=\"font-weight: bold\"> Connected to      </span>┃\n",
       "┡━━━━━━━━━━━━━━━━━━━━━╇━━━━━━━━━━━━━━━━━━━╇━━━━━━━━━━━━╇━━━━━━━━━━━━━━━━━━━┩\n",
       "│ input_layer_2       │ (<span style=\"color: #00d7ff; text-decoration-color: #00d7ff\">None</span>, <span style=\"color: #00af00; text-decoration-color: #00af00\">18</span>)        │          <span style=\"color: #00af00; text-decoration-color: #00af00\">0</span> │ -                 │\n",
       "│ (<span style=\"color: #0087ff; text-decoration-color: #0087ff\">InputLayer</span>)        │                   │            │                   │\n",
       "├─────────────────────┼───────────────────┼────────────┼───────────────────┤\n",
       "│ feature_wise_atten… │ (<span style=\"color: #00d7ff; text-decoration-color: #00d7ff\">None</span>, <span style=\"color: #00af00; text-decoration-color: #00af00\">1</span>)         │         <span style=\"color: #00af00; text-decoration-color: #00af00\">18</span> │ input_layer_2[<span style=\"color: #00af00; text-decoration-color: #00af00\">0</span>]… │\n",
       "│ (<span style=\"color: #0087ff; text-decoration-color: #0087ff\">FeatureWiseAttent…</span> │                   │            │                   │\n",
       "├─────────────────────┼───────────────────┼────────────┼───────────────────┤\n",
       "│ concatenate_2       │ (<span style=\"color: #00d7ff; text-decoration-color: #00d7ff\">None</span>, <span style=\"color: #00af00; text-decoration-color: #00af00\">19</span>)        │          <span style=\"color: #00af00; text-decoration-color: #00af00\">0</span> │ input_layer_2[<span style=\"color: #00af00; text-decoration-color: #00af00\">0</span>]… │\n",
       "│ (<span style=\"color: #0087ff; text-decoration-color: #0087ff\">Concatenate</span>)       │                   │            │ feature_wise_att… │\n",
       "├─────────────────────┼───────────────────┼────────────┼───────────────────┤\n",
       "│ dense_6 (<span style=\"color: #0087ff; text-decoration-color: #0087ff\">Dense</span>)     │ (<span style=\"color: #00d7ff; text-decoration-color: #00d7ff\">None</span>, <span style=\"color: #00af00; text-decoration-color: #00af00\">32</span>)        │        <span style=\"color: #00af00; text-decoration-color: #00af00\">640</span> │ concatenate_2[<span style=\"color: #00af00; text-decoration-color: #00af00\">0</span>]… │\n",
       "├─────────────────────┼───────────────────┼────────────┼───────────────────┤\n",
       "│ dense_7 (<span style=\"color: #0087ff; text-decoration-color: #0087ff\">Dense</span>)     │ (<span style=\"color: #00d7ff; text-decoration-color: #00d7ff\">None</span>, <span style=\"color: #00af00; text-decoration-color: #00af00\">16</span>)        │        <span style=\"color: #00af00; text-decoration-color: #00af00\">528</span> │ dense_6[<span style=\"color: #00af00; text-decoration-color: #00af00\">0</span>][<span style=\"color: #00af00; text-decoration-color: #00af00\">0</span>]     │\n",
       "├─────────────────────┼───────────────────┼────────────┼───────────────────┤\n",
       "│ dense_8 (<span style=\"color: #0087ff; text-decoration-color: #0087ff\">Dense</span>)     │ (<span style=\"color: #00d7ff; text-decoration-color: #00d7ff\">None</span>, <span style=\"color: #00af00; text-decoration-color: #00af00\">1</span>)         │         <span style=\"color: #00af00; text-decoration-color: #00af00\">17</span> │ dense_7[<span style=\"color: #00af00; text-decoration-color: #00af00\">0</span>][<span style=\"color: #00af00; text-decoration-color: #00af00\">0</span>]     │\n",
       "└─────────────────────┴───────────────────┴────────────┴───────────────────┘\n",
       "</pre>\n"
      ],
      "text/plain": [
       "┏━━━━━━━━━━━━━━━━━━━━━┳━━━━━━━━━━━━━━━━━━━┳━━━━━━━━━━━━┳━━━━━━━━━━━━━━━━━━━┓\n",
       "┃\u001b[1m \u001b[0m\u001b[1mLayer (type)       \u001b[0m\u001b[1m \u001b[0m┃\u001b[1m \u001b[0m\u001b[1mOutput Shape     \u001b[0m\u001b[1m \u001b[0m┃\u001b[1m \u001b[0m\u001b[1m   Param #\u001b[0m\u001b[1m \u001b[0m┃\u001b[1m \u001b[0m\u001b[1mConnected to     \u001b[0m\u001b[1m \u001b[0m┃\n",
       "┡━━━━━━━━━━━━━━━━━━━━━╇━━━━━━━━━━━━━━━━━━━╇━━━━━━━━━━━━╇━━━━━━━━━━━━━━━━━━━┩\n",
       "│ input_layer_2       │ (\u001b[38;5;45mNone\u001b[0m, \u001b[38;5;34m18\u001b[0m)        │          \u001b[38;5;34m0\u001b[0m │ -                 │\n",
       "│ (\u001b[38;5;33mInputLayer\u001b[0m)        │                   │            │                   │\n",
       "├─────────────────────┼───────────────────┼────────────┼───────────────────┤\n",
       "│ feature_wise_atten… │ (\u001b[38;5;45mNone\u001b[0m, \u001b[38;5;34m1\u001b[0m)         │         \u001b[38;5;34m18\u001b[0m │ input_layer_2[\u001b[38;5;34m0\u001b[0m]… │\n",
       "│ (\u001b[38;5;33mFeatureWiseAttent…\u001b[0m │                   │            │                   │\n",
       "├─────────────────────┼───────────────────┼────────────┼───────────────────┤\n",
       "│ concatenate_2       │ (\u001b[38;5;45mNone\u001b[0m, \u001b[38;5;34m19\u001b[0m)        │          \u001b[38;5;34m0\u001b[0m │ input_layer_2[\u001b[38;5;34m0\u001b[0m]… │\n",
       "│ (\u001b[38;5;33mConcatenate\u001b[0m)       │                   │            │ feature_wise_att… │\n",
       "├─────────────────────┼───────────────────┼────────────┼───────────────────┤\n",
       "│ dense_6 (\u001b[38;5;33mDense\u001b[0m)     │ (\u001b[38;5;45mNone\u001b[0m, \u001b[38;5;34m32\u001b[0m)        │        \u001b[38;5;34m640\u001b[0m │ concatenate_2[\u001b[38;5;34m0\u001b[0m]… │\n",
       "├─────────────────────┼───────────────────┼────────────┼───────────────────┤\n",
       "│ dense_7 (\u001b[38;5;33mDense\u001b[0m)     │ (\u001b[38;5;45mNone\u001b[0m, \u001b[38;5;34m16\u001b[0m)        │        \u001b[38;5;34m528\u001b[0m │ dense_6[\u001b[38;5;34m0\u001b[0m][\u001b[38;5;34m0\u001b[0m]     │\n",
       "├─────────────────────┼───────────────────┼────────────┼───────────────────┤\n",
       "│ dense_8 (\u001b[38;5;33mDense\u001b[0m)     │ (\u001b[38;5;45mNone\u001b[0m, \u001b[38;5;34m1\u001b[0m)         │         \u001b[38;5;34m17\u001b[0m │ dense_7[\u001b[38;5;34m0\u001b[0m][\u001b[38;5;34m0\u001b[0m]     │\n",
       "└─────────────────────┴───────────────────┴────────────┴───────────────────┘\n"
      ]
     },
     "metadata": {},
     "output_type": "display_data"
    },
    {
     "data": {
      "text/html": [
       "<pre style=\"white-space:pre;overflow-x:auto;line-height:normal;font-family:Menlo,'DejaVu Sans Mono',consolas,'Courier New',monospace\"><span style=\"font-weight: bold\"> Total params: </span><span style=\"color: #00af00; text-decoration-color: #00af00\">1,203</span> (4.70 KB)\n",
       "</pre>\n"
      ],
      "text/plain": [
       "\u001b[1m Total params: \u001b[0m\u001b[38;5;34m1,203\u001b[0m (4.70 KB)\n"
      ]
     },
     "metadata": {},
     "output_type": "display_data"
    },
    {
     "data": {
      "text/html": [
       "<pre style=\"white-space:pre;overflow-x:auto;line-height:normal;font-family:Menlo,'DejaVu Sans Mono',consolas,'Courier New',monospace\"><span style=\"font-weight: bold\"> Trainable params: </span><span style=\"color: #00af00; text-decoration-color: #00af00\">1,203</span> (4.70 KB)\n",
       "</pre>\n"
      ],
      "text/plain": [
       "\u001b[1m Trainable params: \u001b[0m\u001b[38;5;34m1,203\u001b[0m (4.70 KB)\n"
      ]
     },
     "metadata": {},
     "output_type": "display_data"
    },
    {
     "data": {
      "text/html": [
       "<pre style=\"white-space:pre;overflow-x:auto;line-height:normal;font-family:Menlo,'DejaVu Sans Mono',consolas,'Courier New',monospace\"><span style=\"font-weight: bold\"> Non-trainable params: </span><span style=\"color: #00af00; text-decoration-color: #00af00\">0</span> (0.00 B)\n",
       "</pre>\n"
      ],
      "text/plain": [
       "\u001b[1m Non-trainable params: \u001b[0m\u001b[38;5;34m0\u001b[0m (0.00 B)\n"
      ]
     },
     "metadata": {},
     "output_type": "display_data"
    }
   ],
   "source": [
    "\n",
    "###############################################################################\n",
    "# 3. Build the neural network with attention\n",
    "###############################################################################\n",
    "input_dim = X_train_scaled.shape[1]\n",
    "\n",
    "inputs = layers.Input(shape=(input_dim,))\n",
    "# [batch_size, input_dim]\n",
    "\n",
    "# Pass the raw features into the attention layer\n",
    "attention_output = FeatureWiseAttention()(inputs)\n",
    "# shape: (batch_size, 1)\n",
    "\n",
    "# Concatenate the original features and the attention output\n",
    "concat = layers.Concatenate()([inputs, attention_output])\n",
    "# shape: (batch_size, input_dim + 1)\n",
    "\n",
    "# Feed-forward network\n",
    "hidden = layers.Dense(32, activation='relu')(concat)\n",
    "hidden = layers.Dense(16, activation='relu')(hidden)\n",
    "output = layers.Dense(1, activation='sigmoid')(hidden)\n",
    "\n",
    "model = models.Model(inputs=inputs, outputs=output)\n",
    "model.compile(\n",
    "    optimizer=tf.keras.optimizers.Adam(learning_rate=1e-3),\n",
    "    loss='binary_crossentropy',\n",
    "    metrics=['accuracy']\n",
    ")\n",
    "\n",
    "model.summary()\n"
   ]
  },
  {
   "cell_type": "code",
   "execution_count": 22,
   "metadata": {},
   "outputs": [
    {
     "name": "stdout",
     "output_type": "stream",
     "text": [
      "Epoch 1/10\n",
      "\u001b[1m168320/168320\u001b[0m \u001b[32m━━━━━━━━━━━━━━━━━━━━\u001b[0m\u001b[37m\u001b[0m \u001b[1m73s\u001b[0m 424us/step - accuracy: 0.8060 - loss: 0.3704 - val_accuracy: 0.8184 - val_loss: 0.3422\n",
      "Epoch 2/10\n",
      "\u001b[1m168320/168320\u001b[0m \u001b[32m━━━━━━━━━━━━━━━━━━━━\u001b[0m\u001b[37m\u001b[0m \u001b[1m158s\u001b[0m 936us/step - accuracy: 0.8189 - loss: 0.3395 - val_accuracy: 0.8211 - val_loss: 0.3346\n",
      "Epoch 3/10\n",
      "\u001b[1m168320/168320\u001b[0m \u001b[32m━━━━━━━━━━━━━━━━━━━━\u001b[0m\u001b[37m\u001b[0m \u001b[1m73s\u001b[0m 433us/step - accuracy: 0.8208 - loss: 0.3345 - val_accuracy: 0.8228 - val_loss: 0.3334\n",
      "Epoch 4/10\n",
      "\u001b[1m168320/168320\u001b[0m \u001b[32m━━━━━━━━━━━━━━━━━━━━\u001b[0m\u001b[37m\u001b[0m \u001b[1m71s\u001b[0m 419us/step - accuracy: 0.8228 - loss: 0.3317 - val_accuracy: 0.8248 - val_loss: 0.3279\n",
      "Epoch 5/10\n",
      "\u001b[1m168320/168320\u001b[0m \u001b[32m━━━━━━━━━━━━━━━━━━━━\u001b[0m\u001b[37m\u001b[0m \u001b[1m72s\u001b[0m 425us/step - accuracy: 0.8253 - loss: 0.3279 - val_accuracy: 0.8264 - val_loss: 0.3269\n",
      "Epoch 6/10\n",
      "\u001b[1m168320/168320\u001b[0m \u001b[32m━━━━━━━━━━━━━━━━━━━━\u001b[0m\u001b[37m\u001b[0m \u001b[1m78s\u001b[0m 465us/step - accuracy: 0.8280 - loss: 0.3243 - val_accuracy: 0.8297 - val_loss: 0.3221\n",
      "Epoch 7/10\n",
      "\u001b[1m168320/168320\u001b[0m \u001b[32m━━━━━━━━━━━━━━━━━━━━\u001b[0m\u001b[37m\u001b[0m \u001b[1m71s\u001b[0m 423us/step - accuracy: 0.8307 - loss: 0.3210 - val_accuracy: 0.8323 - val_loss: 0.3183\n",
      "Epoch 8/10\n",
      "\u001b[1m168320/168320\u001b[0m \u001b[32m━━━━━━━━━━━━━━━━━━━━\u001b[0m\u001b[37m\u001b[0m \u001b[1m70s\u001b[0m 415us/step - accuracy: 0.8328 - loss: 0.3184 - val_accuracy: 0.8331 - val_loss: 0.3175\n",
      "Epoch 9/10\n",
      "\u001b[1m168320/168320\u001b[0m \u001b[32m━━━━━━━━━━━━━━━━━━━━\u001b[0m\u001b[37m\u001b[0m \u001b[1m178s\u001b[0m 1ms/step - accuracy: 0.8339 - loss: 0.3164 - val_accuracy: 0.8334 - val_loss: 0.3195\n",
      "Epoch 10/10\n",
      "\u001b[1m168320/168320\u001b[0m \u001b[32m━━━━━━━━━━━━━━━━━━━━\u001b[0m\u001b[37m\u001b[0m \u001b[1m74s\u001b[0m 437us/step - accuracy: 0.8357 - loss: 0.3141 - val_accuracy: 0.8366 - val_loss: 0.3161\n"
     ]
    }
   ],
   "source": [
    "\n",
    "###############################################################################\n",
    "# 4. Train the model\n",
    "###############################################################################\n",
    "history = model.fit(\n",
    "    X_train_scaled, y_train,\n",
    "    validation_split=0.1,\n",
    "    epochs=10,\n",
    "    batch_size=32,\n",
    "    verbose=1\n",
    ")\n"
   ]
  },
  {
   "cell_type": "code",
   "execution_count": 14,
   "metadata": {},
   "outputs": [
    {
     "name": "stdout",
     "output_type": "stream",
     "text": [
      "\u001b[1m11/11\u001b[0m \u001b[32m━━━━━━━━━━━━━━━━━━━━\u001b[0m\u001b[37m\u001b[0m \u001b[1m0s\u001b[0m 3ms/step \n",
      "Test Accuracy: 0.6705882352941176\n"
     ]
    }
   ],
   "source": [
    "\n",
    "\n",
    "\n",
    "###############################################################################\n",
    "# 5. Evaluate the model\n",
    "###############################################################################\n",
    "y_pred_prob = model.predict(X_test_scaled)\n",
    "y_pred = (y_pred_prob > 0.5).astype(int).flatten()\n",
    "test_acc = accuracy_score(y_test, y_pred)\n",
    "print(\"Test Accuracy:\", test_acc)\n"
   ]
  },
  {
   "cell_type": "code",
   "execution_count": 24,
   "metadata": {},
   "outputs": [
    {
     "name": "stdout",
     "output_type": "stream",
     "text": [
      "Numeric features for sample 0 in the test set:\n",
      "lambda_list = 0.0\n",
      "lambda_length = 6\n",
      "lambda_conjugate = 0.0\n",
      "lambda_durfee = 4\n",
      "lambda_area = 24\n",
      "lambda_lattice = 1111110000\n",
      "mu_list = 0.0\n",
      "mu_length = 5\n",
      "mu_conjugate = 0.0\n",
      "mu_durfee = 3\n",
      "mu_area = 20\n",
      "mu_lattice = 101001110001\n",
      "nu_list = 0.0\n",
      "nu_length = 2\n",
      "nu_conjugate = 0.0\n",
      "nu_durfee = 1\n",
      "nu_area = 4\n",
      "nu_lattice = 100101111\n",
      "\n",
      "Partition-related columns for sample 0:\n",
      "lambda_list = 0.0\n",
      "mu_list = 0.0\n",
      "nu_list = 0.0\n",
      "lr_coefficient = 0\n",
      "\n",
      "Full row data:\n",
      "lambda_list                                  0.0\n",
      "lambda_length                                  6\n",
      "lambda_conjugate                             0.0\n",
      "lambda_durfee                                  4\n",
      "lambda_area                                   24\n",
      "lambda_frobenius    ([3, 2, 1, 0], [5, 4, 3, 2])\n",
      "lambda_lattice                        1111110000\n",
      "mu_list                                      0.0\n",
      "mu_length                                      5\n",
      "mu_conjugate                                 0.0\n",
      "mu_durfee                                      3\n",
      "mu_area                                       20\n",
      "mu_frobenius              ([5, 3, 0], [4, 3, 2])\n",
      "mu_lattice                          101001110001\n",
      "nu_list                                      0.0\n",
      "nu_length                                      2\n",
      "nu_conjugate                                 0.0\n",
      "nu_durfee                                      1\n",
      "nu_area                                        4\n",
      "nu_frobenius                          ([2], [1])\n",
      "nu_lattice                             100101111\n",
      "lr_coefficient                                 0\n",
      "target                                         0\n",
      "Name: 1, dtype: object\n",
      "Integrated Gradients attributions for sample index 1\n",
      "lambda_list: 0.0000\n",
      "lambda_length: 0.0185\n",
      "lambda_conjugate: 0.0002\n",
      "lambda_durfee: -0.0105\n",
      "lambda_area: -0.0000\n",
      "lambda_lattice: -0.2012\n",
      "mu_list: -0.0000\n",
      "mu_length: -0.0409\n",
      "mu_conjugate: -0.0094\n",
      "mu_durfee: 0.0135\n",
      "mu_area: -0.0214\n",
      "mu_lattice: -0.1973\n",
      "nu_list: -0.0000\n",
      "nu_length: 0.0083\n",
      "nu_conjugate: 0.0029\n",
      "nu_durfee: -0.0504\n",
      "nu_area: 0.0194\n",
      "nu_lattice: 0.0556\n"
     ]
    },
    {
     "data": {
      "image/png": "[encoded data removed]",
      "text/plain": [
       "<Figure size 800x400 with 1 Axes>"
      ]
     },
     "metadata": {},
     "output_type": "display_data"
    }
   ],
   "source": [
    "###############################################################################\n",
    "# 6. Integrated Gradients for Interpretability\n",
    "###############################################################################\n",
    "def integrated_gradients(model, x, baseline=None, steps=50):\n",
    "    \"\"\"\n",
    "    Computes Integrated Gradients for a given model and input x.\n",
    "    \n",
    "    Args:\n",
    "        model: A tf.keras.Model.\n",
    "        x: Input tensor of shape (batch_size, input_dim).\n",
    "        baseline: Baseline tensor of same shape as x (if None, uses zeros).\n",
    "        steps: Number of interpolation steps.\n",
    "    \n",
    "    Returns:\n",
    "        Integrated gradients tensor of shape (batch_size, input_dim).\n",
    "    \"\"\"\n",
    "    if baseline is None:\n",
    "        baseline = tf.zeros_like(x)\n",
    "    \n",
    "    # Generate interpolation coefficients between baseline and x.\n",
    "    alphas = tf.linspace(0.0, 1.0, steps+1)  # shape: (steps+1,)\n",
    "    alphas = tf.reshape(alphas, (steps+1, 1, 1))  # shape: (steps+1, 1, 1)\n",
    "    \n",
    "    # Expand x and baseline for interpolation.\n",
    "    x_expanded = tf.expand_dims(x, 0)          # shape: (1, batch_size, input_dim)\n",
    "    baseline_expanded = tf.expand_dims(baseline, 0)  # shape: (1, batch_size, input_dim)\n",
    "    interpolated = baseline_expanded + alphas * (x_expanded - baseline_expanded)\n",
    "    # interpolated shape: (steps+1, batch_size, input_dim)\n",
    "    \n",
    "    # Reshape to combine steps and batch.\n",
    "    steps_plus_batch = (steps+1) * tf.shape(x)[0]\n",
    "    interpolated = tf.reshape(interpolated, (steps_plus_batch, x.shape[1]))\n",
    "    \n",
    "    with tf.GradientTape() as tape:\n",
    "        tape.watch(interpolated)\n",
    "        preds = model(interpolated)\n",
    "    grads = tape.gradient(preds, interpolated)\n",
    "    \n",
    "    # Reshape grads back to (steps+1, batch_size, input_dim)\n",
    "    grads = tf.reshape(grads, (steps+1, tf.shape(x)[0], x.shape[1]))\n",
    "    # Average gradients across steps.\n",
    "    avg_grads = tf.reduce_mean(grads, axis=0)  # shape: (batch_size, input_dim)\n",
    "    integrated_grads = (x - baseline) * avg_grads\n",
    "    return integrated_grads\n",
    "\n",
    "# Pick a sample from the test set.\n",
    "sample_idx = 1\n",
    "sample_input = tf.convert_to_tensor(X_test_scaled[sample_idx:sample_idx+1], dtype=tf.float32)\n",
    "baseline = tf.zeros_like(sample_input)\n",
    "\n",
    "ig_attributions = integrated_gradients(model, sample_input, baseline=baseline, steps=50)\n",
    "ig_np = ig_attributions.numpy()[0]\n",
    "\n",
    "# Print all numeric features for this row\n",
    "print(\"Numeric features for sample 0 in the test set:\")\n",
    "for col in numeric_features:\n",
    "    val = test_data.loc[sample_idx, col]\n",
    "    print(f\"{col} = {val}\")\n",
    "\n",
    "# Print other relevant columns, e.g. the original partition strings\n",
    "print(\"\\nPartition-related columns for sample 0:\")\n",
    "for col in [\"lambda_list\", \"mu_list\", \"nu_list\", \"lr_coefficient\"]:\n",
    "    if col in test_data.columns:\n",
    "        val = test_data.loc[sample_idx, col]\n",
    "        print(f\"{col} = {val}\")\n",
    "\n",
    "# If you want to see the entire row, just print test_data.iloc[sample_idx]:\n",
    "print(\"\\nFull row data:\")\n",
    "print(test_data.iloc[sample_idx])\n",
    "\n",
    "\n",
    "print(\"Integrated Gradients attributions for sample index\", sample_idx)\n",
    "for feat_name, val in zip(numeric_features, ig_np):\n",
    "    print(f\"{feat_name}: {val:.4f}\")\n",
    "\n",
    "# Plot a bar chart of attributions.\n",
    "plt.figure(figsize=(8,4))\n",
    "plt.bar(range(len(numeric_features)), ig_np)\n",
    "plt.xticks(range(len(numeric_features)), numeric_features, rotation=45, ha='right')\n",
    "plt.title(f\"Integrated Gradients Attributions (Sample {sample_idx})\")\n",
    "plt.tight_layout()\n",
    "plt.show()"
   ]
  },
  {
   "cell_type": "code",
   "execution_count": 23,
   "metadata": {},
   "outputs": [
    {
     "ename": "KeyboardInterrupt",
     "evalue": "",
     "output_type": "error",
     "traceback": [
      "\u001b[0;31m---------------------------------------------------------------------------\u001b[0m",
      "\u001b[0;31mKeyboardInterrupt\u001b[0m                         Traceback (most recent call last)",
      "Cell \u001b[0;32mIn[23], line 21\u001b[0m\n\u001b[1;32m     18\u001b[0m     \u001b[38;5;28;01mreturn\u001b[39;00m np\u001b[38;5;241m.\u001b[39mstack(all_ig)  \u001b[38;5;66;03m# shape (num_samples, num_features)\u001b[39;00m\n\u001b[1;32m     20\u001b[0m \u001b[38;5;66;03m# 1. Compute IG for every sample in the test set\u001b[39;00m\n\u001b[0;32m---> 21\u001b[0m ig_values \u001b[38;5;241m=\u001b[39m \u001b[43mcompute_ig_for_dataset\u001b[49m\u001b[43m(\u001b[49m\u001b[43mmodel\u001b[49m\u001b[43m,\u001b[49m\u001b[43m \u001b[49m\u001b[43mX_test_scaled\u001b[49m\u001b[43m,\u001b[49m\u001b[43m \u001b[49m\u001b[43mbaseline\u001b[49m\u001b[38;5;241;43m=\u001b[39;49m\u001b[38;5;28;43;01mNone\u001b[39;49;00m\u001b[43m,\u001b[49m\u001b[43m \u001b[49m\u001b[43msteps\u001b[49m\u001b[38;5;241;43m=\u001b[39;49m\u001b[38;5;241;43m50\u001b[39;49m\u001b[43m)\u001b[49m\n\u001b[1;32m     22\u001b[0m \u001b[38;5;66;03m# ig_values.shape = (len(X_test_scaled), num_features)\u001b[39;00m\n\u001b[1;32m     23\u001b[0m \n\u001b[1;32m     24\u001b[0m \u001b[38;5;66;03m# 2. Aggregate the attributions. For example, the mean absolute IG:\u001b[39;00m\n\u001b[1;32m     25\u001b[0m mean_abs_ig \u001b[38;5;241m=\u001b[39m np\u001b[38;5;241m.\u001b[39mmean(np\u001b[38;5;241m.\u001b[39mabs(ig_values), axis\u001b[38;5;241m=\u001b[39m\u001b[38;5;241m0\u001b[39m)\n",
      "Cell \u001b[0;32mIn[23], line 15\u001b[0m, in \u001b[0;36mcompute_ig_for_dataset\u001b[0;34m(model, X, baseline, steps)\u001b[0m\n\u001b[1;32m     12\u001b[0m     \u001b[38;5;28;01melse\u001b[39;00m:\n\u001b[1;32m     13\u001b[0m         baseline_tensor \u001b[38;5;241m=\u001b[39m tf\u001b[38;5;241m.\u001b[39mconvert_to_tensor(baseline[i:i\u001b[38;5;241m+\u001b[39m\u001b[38;5;241m1\u001b[39m], dtype\u001b[38;5;241m=\u001b[39mtf\u001b[38;5;241m.\u001b[39mfloat32)\n\u001b[0;32m---> 15\u001b[0m     ig \u001b[38;5;241m=\u001b[39m \u001b[43mintegrated_gradients\u001b[49m\u001b[43m(\u001b[49m\u001b[43mmodel\u001b[49m\u001b[43m,\u001b[49m\u001b[43m \u001b[49m\u001b[43mx_input_tensor\u001b[49m\u001b[43m,\u001b[49m\u001b[43m \u001b[49m\u001b[43mbaseline_tensor\u001b[49m\u001b[43m,\u001b[49m\u001b[43m \u001b[49m\u001b[43msteps\u001b[49m\u001b[38;5;241;43m=\u001b[39;49m\u001b[43msteps\u001b[49m\u001b[43m)\u001b[49m\n\u001b[1;32m     16\u001b[0m     all_ig\u001b[38;5;241m.\u001b[39mappend(ig\u001b[38;5;241m.\u001b[39mnumpy()[\u001b[38;5;241m0\u001b[39m])  \u001b[38;5;66;03m# shape (num_features,)\u001b[39;00m\n\u001b[1;32m     18\u001b[0m \u001b[38;5;28;01mreturn\u001b[39;00m np\u001b[38;5;241m.\u001b[39mstack(all_ig)\n",
      "Cell \u001b[0;32mIn[16], line 37\u001b[0m, in \u001b[0;36mintegrated_gradients\u001b[0;34m(model, x, baseline, steps)\u001b[0m\n\u001b[1;32m     35\u001b[0m     tape\u001b[38;5;241m.\u001b[39mwatch(interpolated)\n\u001b[1;32m     36\u001b[0m     preds \u001b[38;5;241m=\u001b[39m model(interpolated)\n\u001b[0;32m---> 37\u001b[0m grads \u001b[38;5;241m=\u001b[39m \u001b[43mtape\u001b[49m\u001b[38;5;241;43m.\u001b[39;49m\u001b[43mgradient\u001b[49m\u001b[43m(\u001b[49m\u001b[43mpreds\u001b[49m\u001b[43m,\u001b[49m\u001b[43m \u001b[49m\u001b[43minterpolated\u001b[49m\u001b[43m)\u001b[49m\n\u001b[1;32m     39\u001b[0m \u001b[38;5;66;03m# Reshape grads back to (steps+1, batch_size, input_dim)\u001b[39;00m\n\u001b[1;32m     40\u001b[0m grads \u001b[38;5;241m=\u001b[39m tf\u001b[38;5;241m.\u001b[39mreshape(grads, (steps\u001b[38;5;241m+\u001b[39m\u001b[38;5;241m1\u001b[39m, tf\u001b[38;5;241m.\u001b[39mshape(x)[\u001b[38;5;241m0\u001b[39m], x\u001b[38;5;241m.\u001b[39mshape[\u001b[38;5;241m1\u001b[39m]))\n",
      "File \u001b[0;32m/Library/Frameworks/Python.framework/Versions/3.11/lib/python3.11/site-packages/tensorflow/python/eager/backprop.py:1066\u001b[0m, in \u001b[0;36mGradientTape.gradient\u001b[0;34m(self, target, sources, output_gradients, unconnected_gradients)\u001b[0m\n\u001b[1;32m   1060\u001b[0m   output_gradients \u001b[38;5;241m=\u001b[39m (\n\u001b[1;32m   1061\u001b[0m       composite_tensor_gradient\u001b[38;5;241m.\u001b[39mget_flat_tensors_for_gradients(\n\u001b[1;32m   1062\u001b[0m           output_gradients))\n\u001b[1;32m   1063\u001b[0m   output_gradients \u001b[38;5;241m=\u001b[39m [\u001b[38;5;28;01mNone\u001b[39;00m \u001b[38;5;28;01mif\u001b[39;00m x \u001b[38;5;129;01mis\u001b[39;00m \u001b[38;5;28;01mNone\u001b[39;00m \u001b[38;5;28;01melse\u001b[39;00m ops\u001b[38;5;241m.\u001b[39mconvert_to_tensor(x)\n\u001b[1;32m   1064\u001b[0m                       \u001b[38;5;28;01mfor\u001b[39;00m x \u001b[38;5;129;01min\u001b[39;00m output_gradients]\n\u001b[0;32m-> 1066\u001b[0m flat_grad \u001b[38;5;241m=\u001b[39m \u001b[43mimperative_grad\u001b[49m\u001b[38;5;241;43m.\u001b[39;49m\u001b[43mimperative_grad\u001b[49m\u001b[43m(\u001b[49m\n\u001b[1;32m   1067\u001b[0m \u001b[43m    \u001b[49m\u001b[38;5;28;43mself\u001b[39;49m\u001b[38;5;241;43m.\u001b[39;49m\u001b[43m_tape\u001b[49m\u001b[43m,\u001b[49m\n\u001b[1;32m   1068\u001b[0m \u001b[43m    \u001b[49m\u001b[43mflat_targets\u001b[49m\u001b[43m,\u001b[49m\n\u001b[1;32m   1069\u001b[0m \u001b[43m    \u001b[49m\u001b[43mflat_sources\u001b[49m\u001b[43m,\u001b[49m\n\u001b[1;32m   1070\u001b[0m \u001b[43m    \u001b[49m\u001b[43moutput_gradients\u001b[49m\u001b[38;5;241;43m=\u001b[39;49m\u001b[43moutput_gradients\u001b[49m\u001b[43m,\u001b[49m\n\u001b[1;32m   1071\u001b[0m \u001b[43m    \u001b[49m\u001b[43msources_raw\u001b[49m\u001b[38;5;241;43m=\u001b[39;49m\u001b[43mflat_sources_raw\u001b[49m\u001b[43m,\u001b[49m\n\u001b[1;32m   1072\u001b[0m \u001b[43m    \u001b[49m\u001b[43munconnected_gradients\u001b[49m\u001b[38;5;241;43m=\u001b[39;49m\u001b[43munconnected_gradients\u001b[49m\u001b[43m)\u001b[49m\n\u001b[1;32m   1074\u001b[0m \u001b[38;5;28;01mif\u001b[39;00m \u001b[38;5;129;01mnot\u001b[39;00m \u001b[38;5;28mself\u001b[39m\u001b[38;5;241m.\u001b[39m_persistent:\n\u001b[1;32m   1075\u001b[0m   \u001b[38;5;66;03m# Keep track of watched variables before setting tape to None\u001b[39;00m\n\u001b[1;32m   1076\u001b[0m   \u001b[38;5;28mself\u001b[39m\u001b[38;5;241m.\u001b[39m_watched_variables \u001b[38;5;241m=\u001b[39m \u001b[38;5;28mself\u001b[39m\u001b[38;5;241m.\u001b[39m_tape\u001b[38;5;241m.\u001b[39mwatched_variables()\n",
      "File \u001b[0;32m/Library/Frameworks/Python.framework/Versions/3.11/lib/python3.11/site-packages/tensorflow/python/eager/imperative_grad.py:67\u001b[0m, in \u001b[0;36mimperative_grad\u001b[0;34m(tape, target, sources, output_gradients, sources_raw, unconnected_gradients)\u001b[0m\n\u001b[1;32m     63\u001b[0m \u001b[38;5;28;01mexcept\u001b[39;00m \u001b[38;5;167;01mValueError\u001b[39;00m:\n\u001b[1;32m     64\u001b[0m   \u001b[38;5;28;01mraise\u001b[39;00m \u001b[38;5;167;01mValueError\u001b[39;00m(\n\u001b[1;32m     65\u001b[0m       \u001b[38;5;124m\"\u001b[39m\u001b[38;5;124mUnknown value for unconnected_gradients: \u001b[39m\u001b[38;5;132;01m%r\u001b[39;00m\u001b[38;5;124m\"\u001b[39m \u001b[38;5;241m%\u001b[39m unconnected_gradients)\n\u001b[0;32m---> 67\u001b[0m \u001b[38;5;28;01mreturn\u001b[39;00m \u001b[43mpywrap_tfe\u001b[49m\u001b[38;5;241;43m.\u001b[39;49m\u001b[43mTFE_Py_TapeGradient\u001b[49m\u001b[43m(\u001b[49m\n\u001b[1;32m     68\u001b[0m \u001b[43m    \u001b[49m\u001b[43mtape\u001b[49m\u001b[38;5;241;43m.\u001b[39;49m\u001b[43m_tape\u001b[49m\u001b[43m,\u001b[49m\u001b[43m  \u001b[49m\u001b[38;5;66;43;03m# pylint: disable=protected-access\u001b[39;49;00m\n\u001b[1;32m     69\u001b[0m \u001b[43m    \u001b[49m\u001b[43mtarget\u001b[49m\u001b[43m,\u001b[49m\n\u001b[1;32m     70\u001b[0m \u001b[43m    \u001b[49m\u001b[43msources\u001b[49m\u001b[43m,\u001b[49m\n\u001b[1;32m     71\u001b[0m \u001b[43m    \u001b[49m\u001b[43moutput_gradients\u001b[49m\u001b[43m,\u001b[49m\n\u001b[1;32m     72\u001b[0m \u001b[43m    \u001b[49m\u001b[43msources_raw\u001b[49m\u001b[43m,\u001b[49m\n\u001b[1;32m     73\u001b[0m \u001b[43m    \u001b[49m\u001b[43mcompat\u001b[49m\u001b[38;5;241;43m.\u001b[39;49m\u001b[43mas_str\u001b[49m\u001b[43m(\u001b[49m\u001b[43munconnected_gradients\u001b[49m\u001b[38;5;241;43m.\u001b[39;49m\u001b[43mvalue\u001b[49m\u001b[43m)\u001b[49m\u001b[43m)\u001b[49m\n",
      "File \u001b[0;32m/Library/Frameworks/Python.framework/Versions/3.11/lib/python3.11/site-packages/tensorflow/python/eager/backprop.py:148\u001b[0m, in \u001b[0;36m_gradient_function\u001b[0;34m(op_name, attr_tuple, num_inputs, inputs, outputs, out_grads, skip_input_indices, forward_pass_name_scope)\u001b[0m\n\u001b[1;32m    146\u001b[0m     gradient_name_scope \u001b[38;5;241m+\u001b[39m\u001b[38;5;241m=\u001b[39m forward_pass_name_scope \u001b[38;5;241m+\u001b[39m \u001b[38;5;124m\"\u001b[39m\u001b[38;5;124m/\u001b[39m\u001b[38;5;124m\"\u001b[39m\n\u001b[1;32m    147\u001b[0m   \u001b[38;5;28;01mwith\u001b[39;00m ops\u001b[38;5;241m.\u001b[39mname_scope(gradient_name_scope):\n\u001b[0;32m--> 148\u001b[0m     \u001b[38;5;28;01mreturn\u001b[39;00m \u001b[43mgrad_fn\u001b[49m\u001b[43m(\u001b[49m\u001b[43mmock_op\u001b[49m\u001b[43m,\u001b[49m\u001b[43m \u001b[49m\u001b[38;5;241;43m*\u001b[39;49m\u001b[43mout_grads\u001b[49m\u001b[43m)\u001b[49m\n\u001b[1;32m    149\u001b[0m \u001b[38;5;28;01melse\u001b[39;00m:\n\u001b[1;32m    150\u001b[0m   \u001b[38;5;28;01mreturn\u001b[39;00m grad_fn(mock_op, \u001b[38;5;241m*\u001b[39mout_grads)\n",
      "File \u001b[0;32m/Library/Frameworks/Python.framework/Versions/3.11/lib/python3.11/site-packages/tensorflow/python/ops/math_grad.py:1240\u001b[0m, in \u001b[0;36m_SigmoidGrad\u001b[0;34m(op, grad)\u001b[0m\n\u001b[1;32m   1238\u001b[0m y \u001b[38;5;241m=\u001b[39m op\u001b[38;5;241m.\u001b[39moutputs[\u001b[38;5;241m0\u001b[39m]  \u001b[38;5;66;03m# y = sigmoid(x)\u001b[39;00m\n\u001b[1;32m   1239\u001b[0m \u001b[38;5;28;01mwith\u001b[39;00m ops\u001b[38;5;241m.\u001b[39mcontrol_dependencies([grad]):\n\u001b[0;32m-> 1240\u001b[0m   y \u001b[38;5;241m=\u001b[39m \u001b[43mmath_ops\u001b[49m\u001b[38;5;241;43m.\u001b[39;49m\u001b[43mconj\u001b[49m\u001b[43m(\u001b[49m\u001b[43my\u001b[49m\u001b[43m)\u001b[49m\n\u001b[1;32m   1241\u001b[0m   \u001b[38;5;28;01mreturn\u001b[39;00m gen_math_ops\u001b[38;5;241m.\u001b[39msigmoid_grad(y, grad)\n",
      "File \u001b[0;32m/Library/Frameworks/Python.framework/Versions/3.11/lib/python3.11/site-packages/tensorflow/python/ops/weak_tensor_ops.py:88\u001b[0m, in \u001b[0;36mweak_tensor_unary_op_wrapper.<locals>.wrapper\u001b[0;34m(*args, **kwargs)\u001b[0m\n\u001b[1;32m     86\u001b[0m \u001b[38;5;28;01mdef\u001b[39;00m \u001b[38;5;21mwrapper\u001b[39m(\u001b[38;5;241m*\u001b[39margs, \u001b[38;5;241m*\u001b[39m\u001b[38;5;241m*\u001b[39mkwargs):\n\u001b[1;32m     87\u001b[0m   \u001b[38;5;28;01mif\u001b[39;00m \u001b[38;5;129;01mnot\u001b[39;00m ops\u001b[38;5;241m.\u001b[39mis_auto_dtype_conversion_enabled():\n\u001b[0;32m---> 88\u001b[0m     \u001b[38;5;28;01mreturn\u001b[39;00m \u001b[43mop\u001b[49m\u001b[43m(\u001b[49m\u001b[38;5;241;43m*\u001b[39;49m\u001b[43margs\u001b[49m\u001b[43m,\u001b[49m\u001b[43m \u001b[49m\u001b[38;5;241;43m*\u001b[39;49m\u001b[38;5;241;43m*\u001b[39;49m\u001b[43mkwargs\u001b[49m\u001b[43m)\u001b[49m\n\u001b[1;32m     89\u001b[0m   bound_arguments \u001b[38;5;241m=\u001b[39m signature\u001b[38;5;241m.\u001b[39mbind(\u001b[38;5;241m*\u001b[39margs, \u001b[38;5;241m*\u001b[39m\u001b[38;5;241m*\u001b[39mkwargs)\n\u001b[1;32m     90\u001b[0m   bound_arguments\u001b[38;5;241m.\u001b[39mapply_defaults()\n",
      "File \u001b[0;32m/Library/Frameworks/Python.framework/Versions/3.11/lib/python3.11/site-packages/tensorflow/python/util/traceback_utils.py:150\u001b[0m, in \u001b[0;36mfilter_traceback.<locals>.error_handler\u001b[0;34m(*args, **kwargs)\u001b[0m\n\u001b[1;32m    148\u001b[0m filtered_tb \u001b[38;5;241m=\u001b[39m \u001b[38;5;28;01mNone\u001b[39;00m\n\u001b[1;32m    149\u001b[0m \u001b[38;5;28;01mtry\u001b[39;00m:\n\u001b[0;32m--> 150\u001b[0m   \u001b[38;5;28;01mreturn\u001b[39;00m \u001b[43mfn\u001b[49m\u001b[43m(\u001b[49m\u001b[38;5;241;43m*\u001b[39;49m\u001b[43margs\u001b[49m\u001b[43m,\u001b[49m\u001b[43m \u001b[49m\u001b[38;5;241;43m*\u001b[39;49m\u001b[38;5;241;43m*\u001b[39;49m\u001b[43mkwargs\u001b[49m\u001b[43m)\u001b[49m\n\u001b[1;32m    151\u001b[0m \u001b[38;5;28;01mexcept\u001b[39;00m \u001b[38;5;167;01mException\u001b[39;00m \u001b[38;5;28;01mas\u001b[39;00m e:\n\u001b[1;32m    152\u001b[0m   filtered_tb \u001b[38;5;241m=\u001b[39m _process_traceback_frames(e\u001b[38;5;241m.\u001b[39m__traceback__)\n",
      "File \u001b[0;32m/Library/Frameworks/Python.framework/Versions/3.11/lib/python3.11/site-packages/tensorflow/python/util/dispatch.py:1260\u001b[0m, in \u001b[0;36madd_dispatch_support.<locals>.decorator.<locals>.op_dispatch_handler\u001b[0;34m(*args, **kwargs)\u001b[0m\n\u001b[1;32m   1258\u001b[0m \u001b[38;5;66;03m# Fallback dispatch system (dispatch v1):\u001b[39;00m\n\u001b[1;32m   1259\u001b[0m \u001b[38;5;28;01mtry\u001b[39;00m:\n\u001b[0;32m-> 1260\u001b[0m   \u001b[38;5;28;01mreturn\u001b[39;00m \u001b[43mdispatch_target\u001b[49m\u001b[43m(\u001b[49m\u001b[38;5;241;43m*\u001b[39;49m\u001b[43margs\u001b[49m\u001b[43m,\u001b[49m\u001b[43m \u001b[49m\u001b[38;5;241;43m*\u001b[39;49m\u001b[38;5;241;43m*\u001b[39;49m\u001b[43mkwargs\u001b[49m\u001b[43m)\u001b[49m\n\u001b[1;32m   1261\u001b[0m \u001b[38;5;28;01mexcept\u001b[39;00m (\u001b[38;5;167;01mTypeError\u001b[39;00m, \u001b[38;5;167;01mValueError\u001b[39;00m):\n\u001b[1;32m   1262\u001b[0m   \u001b[38;5;66;03m# Note: convert_to_eager_tensor currently raises a ValueError, not a\u001b[39;00m\n\u001b[1;32m   1263\u001b[0m   \u001b[38;5;66;03m# TypeError, when given unexpected types.  So we need to catch both.\u001b[39;00m\n\u001b[1;32m   1264\u001b[0m   result \u001b[38;5;241m=\u001b[39m dispatch(op_dispatch_handler, args, kwargs)\n",
      "\u001b[0;31mKeyboardInterrupt\u001b[0m: "
     ]
    }
   ],
   "source": [
    "def compute_ig_for_dataset(model, X, baseline=None, steps=50):\n",
    "    \"\"\"\n",
    "    Compute integrated gradients for every sample in X.\n",
    "    Returns a numpy array of shape (num_samples, num_features).\n",
    "    \"\"\"\n",
    "    all_ig = []\n",
    "    for i in range(len(X)):\n",
    "        x_input = X[i:i+1]  # shape (1, num_features)\n",
    "        x_input_tensor = tf.convert_to_tensor(x_input, dtype=tf.float32)\n",
    "        if baseline is None:\n",
    "            baseline_tensor = tf.zeros_like(x_input_tensor)\n",
    "        else:\n",
    "            baseline_tensor = tf.convert_to_tensor(baseline[i:i+1], dtype=tf.float32)\n",
    "        \n",
    "        ig = integrated_gradients(model, x_input_tensor, baseline_tensor, steps=steps)\n",
    "        all_ig.append(ig.numpy()[0])  # shape (num_features,)\n",
    "    \n",
    "    return np.stack(all_ig)  # shape (num_samples, num_features)\n",
    "\n",
    "# 1. Compute IG for every sample in the test set\n",
    "ig_values = compute_ig_for_dataset(model, X_test_scaled, baseline=None, steps=50)\n",
    "# ig_values.shape = (len(X_test_scaled), num_features)\n",
    "\n",
    "# 2. Aggregate the attributions. For example, the mean absolute IG:\n",
    "mean_abs_ig = np.mean(np.abs(ig_values), axis=0)\n",
    "\n",
    "# 3. Visualize\n",
    "plt.figure(figsize=(8,4))\n",
    "plt.bar(range(len(numeric_features)), mean_abs_ig)\n",
    "plt.xticks(range(len(numeric_features)), numeric_features, rotation=45, ha='right')\n",
    "plt.title(\"Mean Absolute Integrated Gradients (Test Set)\")\n",
    "plt.tight_layout()\n",
    "plt.show()\n",
    "\n",
    "# Optionally, you can also compute raw mean to see net positive vs negative:\n",
    "mean_raw_ig = np.mean(ig_values, axis=0)\n",
    "print(\"Mean (raw) IG across test set:\", mean_raw_ig)\n"
   ]
  },
  {
   "cell_type": "code",
   "execution_count": null,
   "metadata": {},
   "outputs": [],
   "source": []
  }
 ],
 "metadata": {
  "kernelspec": {
   "display_name": "Python 3",
   "language": "python",
   "name": "python3"
  },
  "language_info": {
   "codemirror_mode": {
    "name": "ipython",
    "version": 3
   },
   "file_extension": ".py",
   "mimetype": "text/x-python",
   "name": "python",
   "nbconvert_exporter": "python",
   "pygments_lexer": "ipython3",
   "version": "3.11.5"
  }
 },
 "nbformat": 4,
 "nbformat_minor": 2
}
